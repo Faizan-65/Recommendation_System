{
 "cells": [
  {
   "cell_type": "markdown",
   "id": "82eb648b-4a9f-44fe-8c02-6e200c8d13a7",
   "metadata": {},
   "source": [
    "# Product Recommendation System Project:"
   ]
  },
  {
   "cell_type": "markdown",
   "id": "53449179-db43-44b7-994a-07d76d2feca6",
   "metadata": {},
   "source": [
    "\n",
    "In this project, you can access a CSV format dataset. Your objective is to create a system that can generate a personalized list of recommended products for each user. Additionally, you'll be tasked with establishing a new recommendation databasesers.\r\n",
    "\r\n"
   ]
  },
  {
   "cell_type": "markdown",
   "id": "8e60597c-881f-4cfd-9ed7-35f5064a138a",
   "metadata": {},
   "source": [
    "\n",
    "- Begin by importing and visualizing the dataset. Organize the data into a 2D matrix format, utilizing User ID (UID) and Product ID as the basis for recording user interactions.\n",
    "- Compute the features for each user. In this context, features represent the count of distinct products purchased by each user.\n",
    "- Employ a nearest neighbor algorithm to identify the five closest neighbors for each user. These neighbors will be chosen based on similarity in product purchase behavior.\n",
    "- Combine the products purchased by the current user and their five nearest neighbors (including the user itself). This forms a union of products collectively bought by this group.\n",
    "- Implement the process of systematically identifying nearest neighbors and aggregating purchased products for each user. This will result in the creation of a recommendation database tailored to individual users.\n",
    "\n"
   ]
  },
  {
   "cell_type": "code",
   "execution_count": 121,
   "id": "61d3dd63-770a-47b3-be0e-ad11e89c3bbc",
   "metadata": {},
   "outputs": [],
   "source": [
    "# start here\n",
    "import matplotlib.pyplot as plt\n",
    "import numpy as np\n",
    "import pandas as pd\n",
    "import seaborn as sns"
   ]
  },
  {
   "cell_type": "markdown",
   "id": "cbac0fad-7bee-4a31-9234-e96e0e96a5c1",
   "metadata": {},
   "source": [
    "### Data Importing and EDA"
   ]
  },
  {
   "cell_type": "code",
   "execution_count": 122,
   "id": "99111d03-d59f-43a8-affb-3aadaf24fb57",
   "metadata": {},
   "outputs": [
    {
     "data": {
      "text/plain": [
       "(5000, 11)"
      ]
     },
     "metadata": {},
     "output_type": "display_data"
    },
    {
     "data": {
      "text/plain": [
       "id               int64\n",
       "product          int64\n",
       "recommended       bool\n",
       "shop            object\n",
       "uid             object\n",
       "api_key         object\n",
       "email          float64\n",
       "order_id       float64\n",
       "created_at      object\n",
       "device          object\n",
       "price          float64\n",
       "dtype: object"
      ]
     },
     "metadata": {},
     "output_type": "display_data"
    },
    {
     "data": {
      "text/html": [
       "<div>\n",
       "<style scoped>\n",
       "    .dataframe tbody tr th:only-of-type {\n",
       "        vertical-align: middle;\n",
       "    }\n",
       "\n",
       "    .dataframe tbody tr th {\n",
       "        vertical-align: top;\n",
       "    }\n",
       "\n",
       "    .dataframe thead th {\n",
       "        text-align: right;\n",
       "    }\n",
       "</style>\n",
       "<table border=\"1\" class=\"dataframe\">\n",
       "  <thead>\n",
       "    <tr style=\"text-align: right;\">\n",
       "      <th></th>\n",
       "      <th>id</th>\n",
       "      <th>product</th>\n",
       "      <th>recommended</th>\n",
       "      <th>shop</th>\n",
       "      <th>uid</th>\n",
       "      <th>api_key</th>\n",
       "      <th>email</th>\n",
       "      <th>order_id</th>\n",
       "      <th>created_at</th>\n",
       "      <th>device</th>\n",
       "      <th>price</th>\n",
       "    </tr>\n",
       "  </thead>\n",
       "  <tbody>\n",
       "    <tr>\n",
       "      <th>0</th>\n",
       "      <td>295</td>\n",
       "      <td>8270579663139</td>\n",
       "      <td>True</td>\n",
       "      <td>shopcast-stage-1-0.myshopify.com</td>\n",
       "      <td>kM7u3GN9Qqme</td>\n",
       "      <td>015629919a40414db823561bddb1e8e3</td>\n",
       "      <td>NaN</td>\n",
       "      <td>NaN</td>\n",
       "      <td>2023-08-18 13:45:54</td>\n",
       "      <td>desktop</td>\n",
       "      <td>2490.0</td>\n",
       "    </tr>\n",
       "    <tr>\n",
       "      <th>1</th>\n",
       "      <td>228</td>\n",
       "      <td>8270579335459</td>\n",
       "      <td>True</td>\n",
       "      <td>shopcast-stage-1-0.myshopify.com</td>\n",
       "      <td>Ue66GQ3Hp5Ha</td>\n",
       "      <td>015629919a40414db823561bddb1e8e3</td>\n",
       "      <td>NaN</td>\n",
       "      <td>NaN</td>\n",
       "      <td>2023-08-16 12:59:52</td>\n",
       "      <td>desktop</td>\n",
       "      <td>960000.0</td>\n",
       "    </tr>\n",
       "    <tr>\n",
       "      <th>2</th>\n",
       "      <td>279</td>\n",
       "      <td>8270579335459</td>\n",
       "      <td>True</td>\n",
       "      <td>shopcast-stage-1-0.myshopify.com</td>\n",
       "      <td>kM7u3GN9Qqme</td>\n",
       "      <td>015629919a40414db823561bddb1e8e3</td>\n",
       "      <td>NaN</td>\n",
       "      <td>NaN</td>\n",
       "      <td>2023-08-18 07:29:15</td>\n",
       "      <td>desktop</td>\n",
       "      <td>960000.0</td>\n",
       "    </tr>\n",
       "  </tbody>\n",
       "</table>\n",
       "</div>"
      ],
      "text/plain": [
       "    id        product  recommended                              shop  \\\n",
       "0  295  8270579663139         True  shopcast-stage-1-0.myshopify.com   \n",
       "1  228  8270579335459         True  shopcast-stage-1-0.myshopify.com   \n",
       "2  279  8270579335459         True  shopcast-stage-1-0.myshopify.com   \n",
       "\n",
       "            uid                           api_key  email  order_id  \\\n",
       "0  kM7u3GN9Qqme  015629919a40414db823561bddb1e8e3    NaN       NaN   \n",
       "1  Ue66GQ3Hp5Ha  015629919a40414db823561bddb1e8e3    NaN       NaN   \n",
       "2  kM7u3GN9Qqme  015629919a40414db823561bddb1e8e3    NaN       NaN   \n",
       "\n",
       "            created_at   device     price  \n",
       "0  2023-08-18 13:45:54  desktop    2490.0  \n",
       "1  2023-08-16 12:59:52  desktop  960000.0  \n",
       "2  2023-08-18 07:29:15  desktop  960000.0  "
      ]
     },
     "metadata": {},
     "output_type": "display_data"
    }
   ],
   "source": [
    "df_purchasing = pd.read_csv(\"data/project_I.csv\")\n",
    "\n",
    "# import the dataset\n",
    "df_purchasing = df_purchasing\n",
    "display(df_purchasing.shape, df_purchasing.dtypes, df_purchasing[:3])"
   ]
  },
  {
   "cell_type": "code",
   "execution_count": 123,
   "id": "5483e1da-bf0c-47f4-83df-d0b4b637c246",
   "metadata": {
    "scrolled": true
   },
   "outputs": [
    {
     "data": {
      "text/plain": [
       "(5000, 11)"
      ]
     },
     "metadata": {},
     "output_type": "display_data"
    },
    {
     "data": {
      "text/plain": [
       "id                0\n",
       "product           0\n",
       "recommended       0\n",
       "shop              0\n",
       "uid               0\n",
       "api_key           0\n",
       "email          5000\n",
       "order_id       5000\n",
       "created_at        0\n",
       "device            0\n",
       "price          4965\n",
       "dtype: int64"
      ]
     },
     "metadata": {},
     "output_type": "display_data"
    }
   ],
   "source": [
    "# Check for NaN Values\n",
    "display(df_purchasing.shape, df_purchasing.isnull().sum())"
   ]
  },
  {
   "cell_type": "code",
   "execution_count": 124,
   "id": "04a1c2d3-0ae8-4e46-8362-16947a1398e0",
   "metadata": {
    "scrolled": true
   },
   "outputs": [
    {
     "data": {
      "text/plain": [
       "(5000, 11)"
      ]
     },
     "metadata": {},
     "output_type": "display_data"
    },
    {
     "data": {
      "text/plain": [
       "id                0\n",
       "product           0\n",
       "recommended       0\n",
       "shop              0\n",
       "uid               0\n",
       "api_key           0\n",
       "email          5000\n",
       "order_id       5000\n",
       "created_at        0\n",
       "device            0\n",
       "price             0\n",
       "dtype: int64"
      ]
     },
     "metadata": {},
     "output_type": "display_data"
    },
    {
     "data": {
      "text/html": [
       "<div>\n",
       "<style scoped>\n",
       "    .dataframe tbody tr th:only-of-type {\n",
       "        vertical-align: middle;\n",
       "    }\n",
       "\n",
       "    .dataframe tbody tr th {\n",
       "        vertical-align: top;\n",
       "    }\n",
       "\n",
       "    .dataframe thead th {\n",
       "        text-align: right;\n",
       "    }\n",
       "</style>\n",
       "<table border=\"1\" class=\"dataframe\">\n",
       "  <thead>\n",
       "    <tr style=\"text-align: right;\">\n",
       "      <th></th>\n",
       "      <th>id</th>\n",
       "      <th>product</th>\n",
       "      <th>recommended</th>\n",
       "      <th>shop</th>\n",
       "      <th>uid</th>\n",
       "      <th>api_key</th>\n",
       "      <th>email</th>\n",
       "      <th>order_id</th>\n",
       "      <th>created_at</th>\n",
       "      <th>device</th>\n",
       "      <th>price</th>\n",
       "    </tr>\n",
       "  </thead>\n",
       "  <tbody>\n",
       "    <tr>\n",
       "      <th>0</th>\n",
       "      <td>295</td>\n",
       "      <td>8270579663139</td>\n",
       "      <td>True</td>\n",
       "      <td>shopcast-stage-1-0.myshopify.com</td>\n",
       "      <td>kM7u3GN9Qqme</td>\n",
       "      <td>015629919a40414db823561bddb1e8e3</td>\n",
       "      <td>NaN</td>\n",
       "      <td>NaN</td>\n",
       "      <td>2023-08-18 13:45:54</td>\n",
       "      <td>desktop</td>\n",
       "      <td>2490.0</td>\n",
       "    </tr>\n",
       "    <tr>\n",
       "      <th>1</th>\n",
       "      <td>228</td>\n",
       "      <td>8270579335459</td>\n",
       "      <td>True</td>\n",
       "      <td>shopcast-stage-1-0.myshopify.com</td>\n",
       "      <td>Ue66GQ3Hp5Ha</td>\n",
       "      <td>015629919a40414db823561bddb1e8e3</td>\n",
       "      <td>NaN</td>\n",
       "      <td>NaN</td>\n",
       "      <td>2023-08-16 12:59:52</td>\n",
       "      <td>desktop</td>\n",
       "      <td>960000.0</td>\n",
       "    </tr>\n",
       "    <tr>\n",
       "      <th>2</th>\n",
       "      <td>279</td>\n",
       "      <td>8270579335459</td>\n",
       "      <td>True</td>\n",
       "      <td>shopcast-stage-1-0.myshopify.com</td>\n",
       "      <td>kM7u3GN9Qqme</td>\n",
       "      <td>015629919a40414db823561bddb1e8e3</td>\n",
       "      <td>NaN</td>\n",
       "      <td>NaN</td>\n",
       "      <td>2023-08-18 07:29:15</td>\n",
       "      <td>desktop</td>\n",
       "      <td>960000.0</td>\n",
       "    </tr>\n",
       "  </tbody>\n",
       "</table>\n",
       "</div>"
      ],
      "text/plain": [
       "    id        product  recommended                              shop  \\\n",
       "0  295  8270579663139         True  shopcast-stage-1-0.myshopify.com   \n",
       "1  228  8270579335459         True  shopcast-stage-1-0.myshopify.com   \n",
       "2  279  8270579335459         True  shopcast-stage-1-0.myshopify.com   \n",
       "\n",
       "            uid                           api_key  email  order_id  \\\n",
       "0  kM7u3GN9Qqme  015629919a40414db823561bddb1e8e3    NaN       NaN   \n",
       "1  Ue66GQ3Hp5Ha  015629919a40414db823561bddb1e8e3    NaN       NaN   \n",
       "2  kM7u3GN9Qqme  015629919a40414db823561bddb1e8e3    NaN       NaN   \n",
       "\n",
       "            created_at   device     price  \n",
       "0  2023-08-18 13:45:54  desktop    2490.0  \n",
       "1  2023-08-16 12:59:52  desktop  960000.0  \n",
       "2  2023-08-18 07:29:15  desktop  960000.0  "
      ]
     },
     "metadata": {},
     "output_type": "display_data"
    }
   ],
   "source": [
    "# Treat the NaN Values\n",
    "df_purchasing[\"price\"].interpolate(method=\"linear\", inplace=True)\n",
    "display(df_purchasing.shape, df_purchasing.isnull().sum(), df_purchasing[:3])"
   ]
  },
  {
   "cell_type": "code",
   "execution_count": 125,
   "id": "77a0a0e8-24e8-49a8-8eb7-73123067db28",
   "metadata": {
    "scrolled": true
   },
   "outputs": [
    {
     "data": {
      "text/plain": [
       "(5000, 9)"
      ]
     },
     "metadata": {},
     "output_type": "display_data"
    },
    {
     "data": {
      "text/plain": [
       "id             0\n",
       "product        0\n",
       "recommended    0\n",
       "shop           0\n",
       "uid            0\n",
       "api_key        0\n",
       "created_at     0\n",
       "device         0\n",
       "price          0\n",
       "dtype: int64"
      ]
     },
     "metadata": {},
     "output_type": "display_data"
    },
    {
     "data": {
      "text/html": [
       "<div>\n",
       "<style scoped>\n",
       "    .dataframe tbody tr th:only-of-type {\n",
       "        vertical-align: middle;\n",
       "    }\n",
       "\n",
       "    .dataframe tbody tr th {\n",
       "        vertical-align: top;\n",
       "    }\n",
       "\n",
       "    .dataframe thead th {\n",
       "        text-align: right;\n",
       "    }\n",
       "</style>\n",
       "<table border=\"1\" class=\"dataframe\">\n",
       "  <thead>\n",
       "    <tr style=\"text-align: right;\">\n",
       "      <th></th>\n",
       "      <th>id</th>\n",
       "      <th>product</th>\n",
       "      <th>recommended</th>\n",
       "      <th>shop</th>\n",
       "      <th>uid</th>\n",
       "      <th>api_key</th>\n",
       "      <th>created_at</th>\n",
       "      <th>device</th>\n",
       "      <th>price</th>\n",
       "    </tr>\n",
       "  </thead>\n",
       "  <tbody>\n",
       "    <tr>\n",
       "      <th>0</th>\n",
       "      <td>295</td>\n",
       "      <td>8270579663139</td>\n",
       "      <td>True</td>\n",
       "      <td>shopcast-stage-1-0.myshopify.com</td>\n",
       "      <td>kM7u3GN9Qqme</td>\n",
       "      <td>015629919a40414db823561bddb1e8e3</td>\n",
       "      <td>2023-08-18 13:45:54</td>\n",
       "      <td>desktop</td>\n",
       "      <td>2490.0</td>\n",
       "    </tr>\n",
       "    <tr>\n",
       "      <th>1</th>\n",
       "      <td>228</td>\n",
       "      <td>8270579335459</td>\n",
       "      <td>True</td>\n",
       "      <td>shopcast-stage-1-0.myshopify.com</td>\n",
       "      <td>Ue66GQ3Hp5Ha</td>\n",
       "      <td>015629919a40414db823561bddb1e8e3</td>\n",
       "      <td>2023-08-16 12:59:52</td>\n",
       "      <td>desktop</td>\n",
       "      <td>960000.0</td>\n",
       "    </tr>\n",
       "    <tr>\n",
       "      <th>2</th>\n",
       "      <td>279</td>\n",
       "      <td>8270579335459</td>\n",
       "      <td>True</td>\n",
       "      <td>shopcast-stage-1-0.myshopify.com</td>\n",
       "      <td>kM7u3GN9Qqme</td>\n",
       "      <td>015629919a40414db823561bddb1e8e3</td>\n",
       "      <td>2023-08-18 07:29:15</td>\n",
       "      <td>desktop</td>\n",
       "      <td>960000.0</td>\n",
       "    </tr>\n",
       "  </tbody>\n",
       "</table>\n",
       "</div>"
      ],
      "text/plain": [
       "    id        product  recommended                              shop  \\\n",
       "0  295  8270579663139         True  shopcast-stage-1-0.myshopify.com   \n",
       "1  228  8270579335459         True  shopcast-stage-1-0.myshopify.com   \n",
       "2  279  8270579335459         True  shopcast-stage-1-0.myshopify.com   \n",
       "\n",
       "            uid                           api_key           created_at  \\\n",
       "0  kM7u3GN9Qqme  015629919a40414db823561bddb1e8e3  2023-08-18 13:45:54   \n",
       "1  Ue66GQ3Hp5Ha  015629919a40414db823561bddb1e8e3  2023-08-16 12:59:52   \n",
       "2  kM7u3GN9Qqme  015629919a40414db823561bddb1e8e3  2023-08-18 07:29:15   \n",
       "\n",
       "    device     price  \n",
       "0  desktop    2490.0  \n",
       "1  desktop  960000.0  \n",
       "2  desktop  960000.0  "
      ]
     },
     "metadata": {},
     "output_type": "display_data"
    }
   ],
   "source": [
    "# Drop the Empty Columns\n",
    "df_purchasing.dropna(axis=1, how=\"all\", inplace=True)\n",
    "display(df_purchasing.shape, df_purchasing.isnull().sum(), df_purchasing[:3])"
   ]
  },
  {
   "cell_type": "markdown",
   "id": "44625e2b-e875-46df-a936-91492d49b422",
   "metadata": {},
   "source": [
    "#### Approach 1: Collaborative Fitting"
   ]
  },
  {
   "cell_type": "code",
   "execution_count": 126,
   "id": "55d243e8-0b52-418d-81f4-b59bf03d67e5",
   "metadata": {},
   "outputs": [],
   "source": [
    "# Algorithm:\n",
    "# 1. Record the Products Bought by the each user Separately Hint: (One Hot encod the products)\n",
    "# 2. Form the clusters of the users based on the type of products they buy.\n",
    "# 3. Recommend the product from the cluster's other buyers that a user haven't bought yet."
   ]
  },
  {
   "cell_type": "code",
   "execution_count": 127,
   "id": "c53f9ae4-26c8-402c-a6ca-4a210633f472",
   "metadata": {},
   "outputs": [],
   "source": [
    "# Implementation:\n",
    "# 1. Make separate DataFrame for each user OR Use Group By Hint: (One Hot encod the products)\n",
    "# 2. Form the clusters of the users based on the type of products they buy.\n",
    "# 3. Recommend the product from the cluster's other buyers that a user haven't bought yet."
   ]
  },
  {
   "cell_type": "markdown",
   "id": "66edabb5-a4bb-458a-bac9-7c676599a3f6",
   "metadata": {},
   "source": [
    "##### Code:"
   ]
  },
  {
   "cell_type": "code",
   "execution_count": 128,
   "id": "532d510a-7115-495a-84f4-513ffe4dbf42",
   "metadata": {
    "scrolled": true
   },
   "outputs": [
    {
     "data": {
      "text/plain": [
       "(1109,)"
      ]
     },
     "metadata": {},
     "output_type": "display_data"
    }
   ],
   "source": [
    "# Check the unique Values in the Product Column\n",
    "display(df_purchasing[\"product\"].unique().shape)"
   ]
  },
  {
   "cell_type": "code",
   "execution_count": 129,
   "id": "539c52a6-48c1-4b97-b69d-33ef1671c60c",
   "metadata": {
    "scrolled": true
   },
   "outputs": [
    {
     "data": {
      "text/plain": [
       "(5000, 9)"
      ]
     },
     "metadata": {},
     "output_type": "display_data"
    },
    {
     "data": {
      "text/plain": [
       "id               int64\n",
       "product          int64\n",
       "recommended       bool\n",
       "shop            object\n",
       "uid             object\n",
       "api_key         object\n",
       "created_at      object\n",
       "device          object\n",
       "price          float64\n",
       "dtype: object"
      ]
     },
     "metadata": {},
     "output_type": "display_data"
    }
   ],
   "source": [
    "# Make a product-focused copy of cleaned dataframe\n",
    "df_purchasing_prodfocused = df_purchasing.copy()\n",
    "display(df_purchasing_prodfocused.shape, df_purchasing_prodfocused.dtypes)"
   ]
  },
  {
   "cell_type": "code",
   "execution_count": 130,
   "id": "79025ffa-93be-49be-80fc-60723343837d",
   "metadata": {
    "scrolled": true
   },
   "outputs": [
    {
     "data": {
      "text/plain": [
       "(5000, 1109)"
      ]
     },
     "metadata": {},
     "output_type": "display_data"
    },
    {
     "data": {
      "text/plain": [
       "product_2617304088694    int32\n",
       "product_3880595226742    int32\n",
       "product_3880595259510    int32\n",
       "product_4408323145846    int32\n",
       "product_4408330223734    int32\n",
       "                         ...  \n",
       "product_8270579564835    int32\n",
       "product_8270579597603    int32\n",
       "product_8270579663139    int32\n",
       "product_8270579695907    int32\n",
       "product_8270580023587    int32\n",
       "Length: 1109, dtype: object"
      ]
     },
     "metadata": {},
     "output_type": "display_data"
    },
    {
     "data": {
      "text/html": [
       "<div>\n",
       "<style scoped>\n",
       "    .dataframe tbody tr th:only-of-type {\n",
       "        vertical-align: middle;\n",
       "    }\n",
       "\n",
       "    .dataframe tbody tr th {\n",
       "        vertical-align: top;\n",
       "    }\n",
       "\n",
       "    .dataframe thead th {\n",
       "        text-align: right;\n",
       "    }\n",
       "</style>\n",
       "<table border=\"1\" class=\"dataframe\">\n",
       "  <thead>\n",
       "    <tr style=\"text-align: right;\">\n",
       "      <th></th>\n",
       "      <th>product_2617304088694</th>\n",
       "      <th>product_3880595226742</th>\n",
       "      <th>product_3880595259510</th>\n",
       "      <th>product_4408323145846</th>\n",
       "      <th>product_4408330223734</th>\n",
       "      <th>product_4408330289270</th>\n",
       "      <th>product_4408330748022</th>\n",
       "      <th>product_4408330813558</th>\n",
       "      <th>product_4416592281718</th>\n",
       "      <th>product_4418227699830</th>\n",
       "      <th>...</th>\n",
       "      <th>product_8270569537827</th>\n",
       "      <th>product_8270570750243</th>\n",
       "      <th>product_8270573175075</th>\n",
       "      <th>product_8270579269923</th>\n",
       "      <th>product_8270579335459</th>\n",
       "      <th>product_8270579564835</th>\n",
       "      <th>product_8270579597603</th>\n",
       "      <th>product_8270579663139</th>\n",
       "      <th>product_8270579695907</th>\n",
       "      <th>product_8270580023587</th>\n",
       "    </tr>\n",
       "  </thead>\n",
       "  <tbody>\n",
       "    <tr>\n",
       "      <th>0</th>\n",
       "      <td>0</td>\n",
       "      <td>0</td>\n",
       "      <td>0</td>\n",
       "      <td>0</td>\n",
       "      <td>0</td>\n",
       "      <td>0</td>\n",
       "      <td>0</td>\n",
       "      <td>0</td>\n",
       "      <td>0</td>\n",
       "      <td>0</td>\n",
       "      <td>...</td>\n",
       "      <td>0</td>\n",
       "      <td>0</td>\n",
       "      <td>0</td>\n",
       "      <td>0</td>\n",
       "      <td>0</td>\n",
       "      <td>0</td>\n",
       "      <td>0</td>\n",
       "      <td>1</td>\n",
       "      <td>0</td>\n",
       "      <td>0</td>\n",
       "    </tr>\n",
       "    <tr>\n",
       "      <th>1</th>\n",
       "      <td>0</td>\n",
       "      <td>0</td>\n",
       "      <td>0</td>\n",
       "      <td>0</td>\n",
       "      <td>0</td>\n",
       "      <td>0</td>\n",
       "      <td>0</td>\n",
       "      <td>0</td>\n",
       "      <td>0</td>\n",
       "      <td>0</td>\n",
       "      <td>...</td>\n",
       "      <td>0</td>\n",
       "      <td>0</td>\n",
       "      <td>0</td>\n",
       "      <td>0</td>\n",
       "      <td>1</td>\n",
       "      <td>0</td>\n",
       "      <td>0</td>\n",
       "      <td>0</td>\n",
       "      <td>0</td>\n",
       "      <td>0</td>\n",
       "    </tr>\n",
       "    <tr>\n",
       "      <th>2</th>\n",
       "      <td>0</td>\n",
       "      <td>0</td>\n",
       "      <td>0</td>\n",
       "      <td>0</td>\n",
       "      <td>0</td>\n",
       "      <td>0</td>\n",
       "      <td>0</td>\n",
       "      <td>0</td>\n",
       "      <td>0</td>\n",
       "      <td>0</td>\n",
       "      <td>...</td>\n",
       "      <td>0</td>\n",
       "      <td>0</td>\n",
       "      <td>0</td>\n",
       "      <td>0</td>\n",
       "      <td>1</td>\n",
       "      <td>0</td>\n",
       "      <td>0</td>\n",
       "      <td>0</td>\n",
       "      <td>0</td>\n",
       "      <td>0</td>\n",
       "    </tr>\n",
       "  </tbody>\n",
       "</table>\n",
       "<p>3 rows × 1109 columns</p>\n",
       "</div>"
      ],
      "text/plain": [
       "   product_2617304088694  product_3880595226742  product_3880595259510  \\\n",
       "0                      0                      0                      0   \n",
       "1                      0                      0                      0   \n",
       "2                      0                      0                      0   \n",
       "\n",
       "   product_4408323145846  product_4408330223734  product_4408330289270  \\\n",
       "0                      0                      0                      0   \n",
       "1                      0                      0                      0   \n",
       "2                      0                      0                      0   \n",
       "\n",
       "   product_4408330748022  product_4408330813558  product_4416592281718  \\\n",
       "0                      0                      0                      0   \n",
       "1                      0                      0                      0   \n",
       "2                      0                      0                      0   \n",
       "\n",
       "   product_4418227699830  ...  product_8270569537827  product_8270570750243  \\\n",
       "0                      0  ...                      0                      0   \n",
       "1                      0  ...                      0                      0   \n",
       "2                      0  ...                      0                      0   \n",
       "\n",
       "   product_8270573175075  product_8270579269923  product_8270579335459  \\\n",
       "0                      0                      0                      0   \n",
       "1                      0                      0                      1   \n",
       "2                      0                      0                      1   \n",
       "\n",
       "   product_8270579564835  product_8270579597603  product_8270579663139  \\\n",
       "0                      0                      0                      1   \n",
       "1                      0                      0                      0   \n",
       "2                      0                      0                      0   \n",
       "\n",
       "   product_8270579695907  product_8270580023587  \n",
       "0                      0                      0  \n",
       "1                      0                      0  \n",
       "2                      0                      0  \n",
       "\n",
       "[3 rows x 1109 columns]"
      ]
     },
     "metadata": {},
     "output_type": "display_data"
    }
   ],
   "source": [
    "# One hot encode the Product Column\n",
    "prod_encoding = pd.get_dummies(\n",
    "    df_purchasing.loc[:, \"product\"], dtype=int, prefix=\"product\", prefix_sep=\"_\"\n",
    ")\n",
    "display(prod_encoding.shape, prod_encoding.dtypes, prod_encoding[:3])"
   ]
  },
  {
   "cell_type": "code",
   "execution_count": 131,
   "id": "88d33ce1-5ab5-41e5-bade-79e03ed964f1",
   "metadata": {
    "scrolled": true
   },
   "outputs": [
    {
     "data": {
      "text/plain": [
       "(5000, 1117)"
      ]
     },
     "metadata": {},
     "output_type": "display_data"
    },
    {
     "data": {
      "text/plain": [
       "id                        int64\n",
       "recommended                bool\n",
       "shop                     object\n",
       "uid                      object\n",
       "api_key                  object\n",
       "                          ...  \n",
       "product_8270579564835     int32\n",
       "product_8270579597603     int32\n",
       "product_8270579663139     int32\n",
       "product_8270579695907     int32\n",
       "product_8270580023587     int32\n",
       "Length: 1117, dtype: object"
      ]
     },
     "metadata": {},
     "output_type": "display_data"
    },
    {
     "data": {
      "text/html": [
       "<div>\n",
       "<style scoped>\n",
       "    .dataframe tbody tr th:only-of-type {\n",
       "        vertical-align: middle;\n",
       "    }\n",
       "\n",
       "    .dataframe tbody tr th {\n",
       "        vertical-align: top;\n",
       "    }\n",
       "\n",
       "    .dataframe thead th {\n",
       "        text-align: right;\n",
       "    }\n",
       "</style>\n",
       "<table border=\"1\" class=\"dataframe\">\n",
       "  <thead>\n",
       "    <tr style=\"text-align: right;\">\n",
       "      <th></th>\n",
       "      <th>id</th>\n",
       "      <th>recommended</th>\n",
       "      <th>shop</th>\n",
       "      <th>uid</th>\n",
       "      <th>api_key</th>\n",
       "      <th>created_at</th>\n",
       "      <th>device</th>\n",
       "      <th>price</th>\n",
       "      <th>product_2617304088694</th>\n",
       "      <th>product_3880595226742</th>\n",
       "      <th>...</th>\n",
       "      <th>product_8270569537827</th>\n",
       "      <th>product_8270570750243</th>\n",
       "      <th>product_8270573175075</th>\n",
       "      <th>product_8270579269923</th>\n",
       "      <th>product_8270579335459</th>\n",
       "      <th>product_8270579564835</th>\n",
       "      <th>product_8270579597603</th>\n",
       "      <th>product_8270579663139</th>\n",
       "      <th>product_8270579695907</th>\n",
       "      <th>product_8270580023587</th>\n",
       "    </tr>\n",
       "  </thead>\n",
       "  <tbody>\n",
       "    <tr>\n",
       "      <th>0</th>\n",
       "      <td>295</td>\n",
       "      <td>True</td>\n",
       "      <td>shopcast-stage-1-0.myshopify.com</td>\n",
       "      <td>kM7u3GN9Qqme</td>\n",
       "      <td>015629919a40414db823561bddb1e8e3</td>\n",
       "      <td>2023-08-18 13:45:54</td>\n",
       "      <td>desktop</td>\n",
       "      <td>2490.0</td>\n",
       "      <td>0</td>\n",
       "      <td>0</td>\n",
       "      <td>...</td>\n",
       "      <td>0</td>\n",
       "      <td>0</td>\n",
       "      <td>0</td>\n",
       "      <td>0</td>\n",
       "      <td>0</td>\n",
       "      <td>0</td>\n",
       "      <td>0</td>\n",
       "      <td>1</td>\n",
       "      <td>0</td>\n",
       "      <td>0</td>\n",
       "    </tr>\n",
       "    <tr>\n",
       "      <th>1</th>\n",
       "      <td>228</td>\n",
       "      <td>True</td>\n",
       "      <td>shopcast-stage-1-0.myshopify.com</td>\n",
       "      <td>Ue66GQ3Hp5Ha</td>\n",
       "      <td>015629919a40414db823561bddb1e8e3</td>\n",
       "      <td>2023-08-16 12:59:52</td>\n",
       "      <td>desktop</td>\n",
       "      <td>960000.0</td>\n",
       "      <td>0</td>\n",
       "      <td>0</td>\n",
       "      <td>...</td>\n",
       "      <td>0</td>\n",
       "      <td>0</td>\n",
       "      <td>0</td>\n",
       "      <td>0</td>\n",
       "      <td>1</td>\n",
       "      <td>0</td>\n",
       "      <td>0</td>\n",
       "      <td>0</td>\n",
       "      <td>0</td>\n",
       "      <td>0</td>\n",
       "    </tr>\n",
       "    <tr>\n",
       "      <th>2</th>\n",
       "      <td>279</td>\n",
       "      <td>True</td>\n",
       "      <td>shopcast-stage-1-0.myshopify.com</td>\n",
       "      <td>kM7u3GN9Qqme</td>\n",
       "      <td>015629919a40414db823561bddb1e8e3</td>\n",
       "      <td>2023-08-18 07:29:15</td>\n",
       "      <td>desktop</td>\n",
       "      <td>960000.0</td>\n",
       "      <td>0</td>\n",
       "      <td>0</td>\n",
       "      <td>...</td>\n",
       "      <td>0</td>\n",
       "      <td>0</td>\n",
       "      <td>0</td>\n",
       "      <td>0</td>\n",
       "      <td>1</td>\n",
       "      <td>0</td>\n",
       "      <td>0</td>\n",
       "      <td>0</td>\n",
       "      <td>0</td>\n",
       "      <td>0</td>\n",
       "    </tr>\n",
       "  </tbody>\n",
       "</table>\n",
       "<p>3 rows × 1117 columns</p>\n",
       "</div>"
      ],
      "text/plain": [
       "    id  recommended                              shop           uid  \\\n",
       "0  295         True  shopcast-stage-1-0.myshopify.com  kM7u3GN9Qqme   \n",
       "1  228         True  shopcast-stage-1-0.myshopify.com  Ue66GQ3Hp5Ha   \n",
       "2  279         True  shopcast-stage-1-0.myshopify.com  kM7u3GN9Qqme   \n",
       "\n",
       "                            api_key           created_at   device     price  \\\n",
       "0  015629919a40414db823561bddb1e8e3  2023-08-18 13:45:54  desktop    2490.0   \n",
       "1  015629919a40414db823561bddb1e8e3  2023-08-16 12:59:52  desktop  960000.0   \n",
       "2  015629919a40414db823561bddb1e8e3  2023-08-18 07:29:15  desktop  960000.0   \n",
       "\n",
       "   product_2617304088694  product_3880595226742  ...  product_8270569537827  \\\n",
       "0                      0                      0  ...                      0   \n",
       "1                      0                      0  ...                      0   \n",
       "2                      0                      0  ...                      0   \n",
       "\n",
       "   product_8270570750243  product_8270573175075  product_8270579269923  \\\n",
       "0                      0                      0                      0   \n",
       "1                      0                      0                      0   \n",
       "2                      0                      0                      0   \n",
       "\n",
       "   product_8270579335459  product_8270579564835  product_8270579597603  \\\n",
       "0                      0                      0                      0   \n",
       "1                      1                      0                      0   \n",
       "2                      1                      0                      0   \n",
       "\n",
       "   product_8270579663139  product_8270579695907  product_8270580023587  \n",
       "0                      1                      0                      0  \n",
       "1                      0                      0                      0  \n",
       "2                      0                      0                      0  \n",
       "\n",
       "[3 rows x 1117 columns]"
      ]
     },
     "metadata": {},
     "output_type": "display_data"
    }
   ],
   "source": [
    "# Drop the product column from the product focused Dataframe\n",
    "column_to_drop = \"product\"\n",
    "if column_to_drop in df_purchasing_prodfocused.columns:\n",
    "    df_purchasing_prodfocused.drop(columns=column_to_drop, inplace=True)\n",
    "else:\n",
    "    print(f\"The column '{column_to_drop}' does not exist in the DataFrame.\")\n",
    "\n",
    "# Stitch the Encoded dataframe with the product-focused dataframe\n",
    "df_purchasing_prod_encoded = pd.concat(\n",
    "    [df_purchasing_prodfocused, prod_encoding], axis=1\n",
    ")\n",
    "display(\n",
    "    df_purchasing_prod_encoded.shape,\n",
    "    df_purchasing_prod_encoded.dtypes,\n",
    "    df_purchasing_prod_encoded[:3],\n",
    ")"
   ]
  },
  {
   "cell_type": "code",
   "execution_count": 132,
   "id": "c96d1b6b-847a-4a96-b5a4-be06726dfd02",
   "metadata": {},
   "outputs": [
    {
     "data": {
      "text/plain": [
       "(2699, 1117)"
      ]
     },
     "metadata": {},
     "output_type": "display_data"
    }
   ],
   "source": [
    "# Initialize an empty dictionary to store aggregation rules\n",
    "agg_rules = {}\n",
    "for col in df_purchasing_prod_encoded.columns:\n",
    "    if df_purchasing_prod_encoded[col].isin([0, 1]).all():\n",
    "        agg_rules[col] = \"sum\"\n",
    "    else:\n",
    "        agg_rules[col] = \"first\"\n",
    "\n",
    "# Aggregate the Consumers\n",
    "df_prod_grouped = df_purchasing_prod_encoded.groupby(\"uid\").agg(agg_rules)\n",
    "\n",
    "display(df_prod_grouped.shape)"
   ]
  },
  {
   "cell_type": "code",
   "execution_count": 133,
   "id": "ee772ef4-5ec1-41ad-923b-355bf395d75c",
   "metadata": {},
   "outputs": [
    {
     "data": {
      "text/plain": [
       "(2699, 1110)"
      ]
     },
     "metadata": {},
     "output_type": "display_data"
    },
    {
     "data": {
      "text/html": [
       "<div>\n",
       "<style scoped>\n",
       "    .dataframe tbody tr th:only-of-type {\n",
       "        vertical-align: middle;\n",
       "    }\n",
       "\n",
       "    .dataframe tbody tr th {\n",
       "        vertical-align: top;\n",
       "    }\n",
       "\n",
       "    .dataframe thead th {\n",
       "        text-align: right;\n",
       "    }\n",
       "</style>\n",
       "<table border=\"1\" class=\"dataframe\">\n",
       "  <thead>\n",
       "    <tr style=\"text-align: right;\">\n",
       "      <th></th>\n",
       "      <th>uid</th>\n",
       "      <th>product_2617304088694</th>\n",
       "      <th>product_3880595226742</th>\n",
       "      <th>product_3880595259510</th>\n",
       "      <th>product_4408323145846</th>\n",
       "      <th>product_4408330223734</th>\n",
       "      <th>product_4408330289270</th>\n",
       "      <th>product_4408330748022</th>\n",
       "      <th>product_4408330813558</th>\n",
       "      <th>product_4416592281718</th>\n",
       "      <th>...</th>\n",
       "      <th>product_8270569537827</th>\n",
       "      <th>product_8270570750243</th>\n",
       "      <th>product_8270573175075</th>\n",
       "      <th>product_8270579269923</th>\n",
       "      <th>product_8270579335459</th>\n",
       "      <th>product_8270579564835</th>\n",
       "      <th>product_8270579597603</th>\n",
       "      <th>product_8270579663139</th>\n",
       "      <th>product_8270579695907</th>\n",
       "      <th>product_8270580023587</th>\n",
       "    </tr>\n",
       "    <tr>\n",
       "      <th>uid</th>\n",
       "      <th></th>\n",
       "      <th></th>\n",
       "      <th></th>\n",
       "      <th></th>\n",
       "      <th></th>\n",
       "      <th></th>\n",
       "      <th></th>\n",
       "      <th></th>\n",
       "      <th></th>\n",
       "      <th></th>\n",
       "      <th></th>\n",
       "      <th></th>\n",
       "      <th></th>\n",
       "      <th></th>\n",
       "      <th></th>\n",
       "      <th></th>\n",
       "      <th></th>\n",
       "      <th></th>\n",
       "      <th></th>\n",
       "      <th></th>\n",
       "      <th></th>\n",
       "    </tr>\n",
       "  </thead>\n",
       "  <tbody>\n",
       "    <tr>\n",
       "      <th>--HmgGZN-V-C</th>\n",
       "      <td>--HmgGZN-V-C</td>\n",
       "      <td>0</td>\n",
       "      <td>0</td>\n",
       "      <td>0</td>\n",
       "      <td>0</td>\n",
       "      <td>0</td>\n",
       "      <td>0</td>\n",
       "      <td>0</td>\n",
       "      <td>0</td>\n",
       "      <td>0</td>\n",
       "      <td>...</td>\n",
       "      <td>0</td>\n",
       "      <td>0</td>\n",
       "      <td>0</td>\n",
       "      <td>0</td>\n",
       "      <td>0</td>\n",
       "      <td>0</td>\n",
       "      <td>0</td>\n",
       "      <td>0</td>\n",
       "      <td>0</td>\n",
       "      <td>0</td>\n",
       "    </tr>\n",
       "    <tr>\n",
       "      <th>-2he5U_l1TLY</th>\n",
       "      <td>-2he5U_l1TLY</td>\n",
       "      <td>0</td>\n",
       "      <td>0</td>\n",
       "      <td>0</td>\n",
       "      <td>0</td>\n",
       "      <td>0</td>\n",
       "      <td>0</td>\n",
       "      <td>0</td>\n",
       "      <td>0</td>\n",
       "      <td>0</td>\n",
       "      <td>...</td>\n",
       "      <td>0</td>\n",
       "      <td>0</td>\n",
       "      <td>0</td>\n",
       "      <td>0</td>\n",
       "      <td>0</td>\n",
       "      <td>0</td>\n",
       "      <td>0</td>\n",
       "      <td>0</td>\n",
       "      <td>0</td>\n",
       "      <td>0</td>\n",
       "    </tr>\n",
       "    <tr>\n",
       "      <th>-3pyOXldrSof</th>\n",
       "      <td>-3pyOXldrSof</td>\n",
       "      <td>0</td>\n",
       "      <td>0</td>\n",
       "      <td>0</td>\n",
       "      <td>0</td>\n",
       "      <td>0</td>\n",
       "      <td>0</td>\n",
       "      <td>0</td>\n",
       "      <td>0</td>\n",
       "      <td>0</td>\n",
       "      <td>...</td>\n",
       "      <td>0</td>\n",
       "      <td>0</td>\n",
       "      <td>0</td>\n",
       "      <td>0</td>\n",
       "      <td>0</td>\n",
       "      <td>0</td>\n",
       "      <td>0</td>\n",
       "      <td>0</td>\n",
       "      <td>0</td>\n",
       "      <td>0</td>\n",
       "    </tr>\n",
       "  </tbody>\n",
       "</table>\n",
       "<p>3 rows × 1110 columns</p>\n",
       "</div>"
      ],
      "text/plain": [
       "                       uid  product_2617304088694  product_3880595226742  \\\n",
       "uid                                                                        \n",
       "--HmgGZN-V-C  --HmgGZN-V-C                      0                      0   \n",
       "-2he5U_l1TLY  -2he5U_l1TLY                      0                      0   \n",
       "-3pyOXldrSof  -3pyOXldrSof                      0                      0   \n",
       "\n",
       "              product_3880595259510  product_4408323145846  \\\n",
       "uid                                                          \n",
       "--HmgGZN-V-C                      0                      0   \n",
       "-2he5U_l1TLY                      0                      0   \n",
       "-3pyOXldrSof                      0                      0   \n",
       "\n",
       "              product_4408330223734  product_4408330289270  \\\n",
       "uid                                                          \n",
       "--HmgGZN-V-C                      0                      0   \n",
       "-2he5U_l1TLY                      0                      0   \n",
       "-3pyOXldrSof                      0                      0   \n",
       "\n",
       "              product_4408330748022  product_4408330813558  \\\n",
       "uid                                                          \n",
       "--HmgGZN-V-C                      0                      0   \n",
       "-2he5U_l1TLY                      0                      0   \n",
       "-3pyOXldrSof                      0                      0   \n",
       "\n",
       "              product_4416592281718  ...  product_8270569537827  \\\n",
       "uid                                  ...                          \n",
       "--HmgGZN-V-C                      0  ...                      0   \n",
       "-2he5U_l1TLY                      0  ...                      0   \n",
       "-3pyOXldrSof                      0  ...                      0   \n",
       "\n",
       "              product_8270570750243  product_8270573175075  \\\n",
       "uid                                                          \n",
       "--HmgGZN-V-C                      0                      0   \n",
       "-2he5U_l1TLY                      0                      0   \n",
       "-3pyOXldrSof                      0                      0   \n",
       "\n",
       "              product_8270579269923  product_8270579335459  \\\n",
       "uid                                                          \n",
       "--HmgGZN-V-C                      0                      0   \n",
       "-2he5U_l1TLY                      0                      0   \n",
       "-3pyOXldrSof                      0                      0   \n",
       "\n",
       "              product_8270579564835  product_8270579597603  \\\n",
       "uid                                                          \n",
       "--HmgGZN-V-C                      0                      0   \n",
       "-2he5U_l1TLY                      0                      0   \n",
       "-3pyOXldrSof                      0                      0   \n",
       "\n",
       "              product_8270579663139  product_8270579695907  \\\n",
       "uid                                                          \n",
       "--HmgGZN-V-C                      0                      0   \n",
       "-2he5U_l1TLY                      0                      0   \n",
       "-3pyOXldrSof                      0                      0   \n",
       "\n",
       "              product_8270580023587  \n",
       "uid                                  \n",
       "--HmgGZN-V-C                      0  \n",
       "-2he5U_l1TLY                      0  \n",
       "-3pyOXldrSof                      0  \n",
       "\n",
       "[3 rows x 1110 columns]"
      ]
     },
     "metadata": {},
     "output_type": "display_data"
    }
   ],
   "source": [
    "df_prod_classifier = df_prod_grouped.drop(\n",
    "    columns={\"id\", \"recommended\", \"shop\", \"api_key\", \"created_at\", \"device\", \"price\"}\n",
    ")\n",
    "display(df_prod_classifier.shape, df_prod_classifier[:3])"
   ]
  },
  {
   "cell_type": "code",
   "execution_count": 134,
   "id": "a975343a-7d21-442c-8f50-93887782e1c0",
   "metadata": {},
   "outputs": [],
   "source": [
    "from sklearn.metrics import classification_report, confusion_matrix\n",
    "from sklearn.model_selection import train_test_split\n",
    "from sklearn.neighbors import KNeighborsClassifier\n",
    "\n",
    "x_train, x_test, y_train, y_test = train_test_split(\n",
    "    df_prod_classifier.iloc[:, 1:], df_prod_classifier.iloc[:, 0]\n",
    ")\n",
    "\n",
    "knn = KNeighborsClassifier(n_neighbors=3)\n",
    "knn.fit(x_train, y_train)\n",
    "y_pred = knn.predict(x_test)"
   ]
  },
  {
   "cell_type": "code",
   "execution_count": null,
   "id": "9a21723a-4d12-4454-bf4a-9ce6d6621627",
   "metadata": {},
   "outputs": [],
   "source": []
  },
  {
   "cell_type": "code",
   "execution_count": 135,
   "id": "1f668e64-20de-4c97-8c55-95fd320c4dca",
   "metadata": {},
   "outputs": [],
   "source": [
    "def recommend_product(uid):\n",
    "    neighbors_indices = knn.kneighbors(\n",
    "        df_prod_classifier.loc[df_prod_classifier[\"uid\"] == uid, :].iloc[:, 1:],\n",
    "        n_neighbors=10,\n",
    "        return_distance=False,\n",
    "    )[0]\n",
    "\n",
    "    user_products = (\n",
    "        df_prod_classifier.loc[df_prod_classifier[\"uid\"] == uid, :]\n",
    "        .drop(columns=\"uid\")\n",
    "        .to_numpy()\n",
    "        .flatten()\n",
    "    )\n",
    "\n",
    "    neighbors = []\n",
    "    for i in range(10):\n",
    "        neighbors.append(df_prod_classifier.iloc[neighbors_indices[i], 1:])\n",
    "    neighbors_products = np.array(neighbors)\n",
    "\n",
    "    # neighbors_union = np.logical_or.reduce(neighbors_products[i] for i in range(neighbors_products.shape[0]))\n",
    "    neighbors_union = np.logical_or.reduce(neighbors_products, axis=0)\n",
    "    neighbors_products = neighbors_union\n",
    "\n",
    "    # Filter out already purchased products\n",
    "    recommended_products = neighbors_products - user_products\n",
    "    recommendation_frame = pd.DataFrame(\n",
    "        recommended_products.reshape(1, -1), columns=df_prod_classifier.columns[1:]\n",
    "    )\n",
    "    recommendation_frame = recommendation_frame.loc[\n",
    "        :, (recommendation_frame != 0).any(axis=0)\n",
    "    ]\n",
    "\n",
    "    return recommendation_frame"
   ]
  },
  {
   "cell_type": "code",
   "execution_count": 138,
   "id": "e7f198a8-4141-4063-8ef1-70902b1d3764",
   "metadata": {},
   "outputs": [
    {
     "data": {
      "text/plain": [
       "'Please enter the user Id to get the Product recommendations:'"
      ]
     },
     "metadata": {},
     "output_type": "display_data"
    },
    {
     "data": {
      "text/plain": [
       "\"User -3pyOXldrSof should also buy following products Index(['product_6549060223094', 'product_6613779677302',\\n       'product_6618557448310', 'product_6682258342006'],\\n      dtype='object')\""
      ]
     },
     "metadata": {},
     "output_type": "display_data"
    }
   ],
   "source": [
    "# Expected output:\n",
    "# execute=True\n",
    "# while(execute):\n",
    "display(\"Please enter the user Id to get the Product recommendations:\")\n",
    "# uId=input ('Enter Something')\n",
    "uId = \"-3pyOXldrSof\"\n",
    "display(\n",
    "    f\"User {uId} should also buy following products {recommend_product(uId).columns[:4]}\"\n",
    ")"
   ]
  },
  {
   "cell_type": "code",
   "execution_count": null,
   "id": "f8bcbe85-7c79-4428-9502-c61eeabb5cc0",
   "metadata": {},
   "outputs": [],
   "source": []
  }
 ],
 "metadata": {
  "kernelspec": {
   "display_name": "Python 3 (ipykernel)",
   "language": "python",
   "name": "python3"
  },
  "language_info": {
   "codemirror_mode": {
    "name": "ipython",
    "version": 3
   },
   "file_extension": ".py",
   "mimetype": "text/x-python",
   "name": "python",
   "nbconvert_exporter": "python",
   "pygments_lexer": "ipython3",
   "version": "3.11.7"
  }
 },
 "nbformat": 4,
 "nbformat_minor": 5
}
